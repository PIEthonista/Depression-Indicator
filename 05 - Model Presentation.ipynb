{
 "cells": [
  {
   "cell_type": "code",
   "execution_count": null,
   "id": "cf97bfa5",
   "metadata": {},
   "outputs": [],
   "source": [
    "import tensorflow as tf\n",
    "print(tf.__version__)\n",
    "\n",
    "import pandas as pd\n",
    "import numpy as np"
   ]
  },
  {
   "cell_type": "code",
   "execution_count": null,
   "id": "968e3df1",
   "metadata": {},
   "outputs": [],
   "source": [
    "#change this line:\n",
    "work_dir = \"/Users/gohyixian/Downloads\""
   ]
  },
  {
   "cell_type": "code",
   "execution_count": null,
   "id": "b4fe6ea1",
   "metadata": {},
   "outputs": [],
   "source": [
    "from tensorflow.keras.models import load_model\n",
    "\n",
    "model_dir = work_dir + \"/NLP-Depression/Model/Hot_Stuff\"\n",
    "model = load_model(model_dir)\n",
    "\n",
    "\n",
    "import contractions\n",
    "import re\n",
    "from nltk.tokenize import word_tokenize\n",
    "from nltk.corpus import stopwords\n",
    "import numpy as np\n",
    "\n",
    "stopwords = set(stopwords.words('english'))\n",
    "\n",
    "def predict(model, input, stopwords=stopwords):\n",
    "    \n",
    "    # cleaning input data\n",
    "    input = input.lower()\n",
    "    input = input.split(\" \")\n",
    "    input = [re.sub(r\"[^\\w\\d\\s\\']+\", \"\", x) for x in input]\n",
    "    emoj = re.compile(\"[\"\n",
    "        u\"\\U0001F600-\\U0001F64F\"  # emoticons\n",
    "        u\"\\U0001F300-\\U0001F5FF\"  # symbols & pictographs\n",
    "        u\"\\U0001F680-\\U0001F6FF\"  # transport & map symbols\n",
    "        u\"\\U0001F1E0-\\U0001F1FF\"  # flags (iOS)\n",
    "        u\"\\U00002500-\\U00002BEF\"  # chinese char\n",
    "        u\"\\U00002702-\\U000027B0\"\n",
    "        u\"\\U00002702-\\U000027B0\"\n",
    "        u\"\\U000024C2-\\U0001F251\"\n",
    "        u\"\\U0001f926-\\U0001f937\"\n",
    "        u\"\\U00010000-\\U0010ffff\"\n",
    "        u\"\\u2640-\\u2642\" \n",
    "        u\"\\u2600-\\u2B55\"\n",
    "        u\"\\u200d\"\n",
    "        u\"\\u23cf\"\n",
    "        u\"\\u23e9\"\n",
    "        u\"\\u231a\"\n",
    "        u\"\\ufe0f\"  # dingbats\n",
    "        u\"\\u3030\"\n",
    "        \"]+\", re.UNICODE)\n",
    "    \n",
    "    input = [re.sub(emoj, \"\", x) for x in input]\n",
    "    input = [x.encode(\"ascii\", \"ignore\").decode() for x in input]\n",
    "    input = [x for x in input if x != \"\"]\n",
    "    input = [contractions.fix(x) for x in input]\n",
    "    input = ' '.join(map(str, input))\n",
    "    input = word_tokenize(input, language=\"english\")\n",
    "    input = [x for x in input if x not in stopwords]\n",
    "    input = [x for x in input if not x.isdigit()]\n",
    "    input = ' '.join(map(str, input))\n",
    "    filtered_text = input\n",
    "\n",
    "    x_input = np.array([input], dtype=np.string_)\n",
    "    y = model.predict(x_input)\n",
    "    result = \"\"\n",
    "    if y[0][0] == y[0].max():\n",
    "        result = \"No Depression\"\n",
    "    elif y[0][1] == y[0].max():\n",
    "        result = \"Depression Detected\"\n",
    "    elif y[0][2] == y[0].max():\n",
    "        result = \"Suicidal Depression\"\n",
    "        \n",
    "    return (result, y, filtered_text)\n",
    "\n",
    "print(\"Loaded\")"
   ]
  },
  {
   "cell_type": "code",
   "execution_count": null,
   "id": "0bec4272",
   "metadata": {},
   "outputs": [],
   "source": [
    "while True:\n",
    "    x = input(\"Enter Text: \")\n",
    "    if x == \"exit\":\n",
    "        break\n",
    "    y = predict(model, x)\n",
    "    print(\"Filtered Text : \" + y[2])\n",
    "    print(\"Model Result  : \" + y[0])\n",
    "    print(\"No Depression       :\", y[1][0][0])\n",
    "    print(\"Depression Detected :\", y[1][0][1])\n",
    "    print(\"Suicidal Depression :\", y[1][0][2])\n",
    "    print(\"\")\n",
    "    print(\"---------------------------------------------------\")\n",
    "\n",
    "print(\"Completed\")"
   ]
  }
 ],
 "metadata": {
  "kernelspec": {
   "display_name": "Python 3 (ipykernel)",
   "language": "python",
   "name": "python3"
  },
  "language_info": {
   "codemirror_mode": {
    "name": "ipython",
    "version": 3
   },
   "file_extension": ".py",
   "mimetype": "text/x-python",
   "name": "python",
   "nbconvert_exporter": "python",
   "pygments_lexer": "ipython3",
   "version": "3.9.13"
  }
 },
 "nbformat": 4,
 "nbformat_minor": 5
}
