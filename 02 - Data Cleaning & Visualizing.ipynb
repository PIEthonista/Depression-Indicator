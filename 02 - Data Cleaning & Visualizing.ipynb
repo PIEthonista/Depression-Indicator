{
 "cells": [
  {
   "cell_type": "code",
   "execution_count": 11,
   "id": "488f6ec7",
   "metadata": {},
   "outputs": [],
   "source": [
    "import pandas as pd\n",
    "import numpy as np\n",
    "import regex as re\n",
    "from matplotlib import pyplot as plt\n",
    "import seaborn as sns\n",
    "import nltk\n",
    "from collections import Counter\n",
    "from yellowbrick.text import PosTagVisualizer\n",
    "import contractions\n",
    "import os"
   ]
  },
  {
   "cell_type": "code",
   "execution_count": 12,
   "id": "8e30d487",
   "metadata": {},
   "outputs": [
    {
     "data": {
      "text/html": [
       "<div>\n",
       "<style scoped>\n",
       "    .dataframe tbody tr th:only-of-type {\n",
       "        vertical-align: middle;\n",
       "    }\n",
       "\n",
       "    .dataframe tbody tr th {\n",
       "        vertical-align: top;\n",
       "    }\n",
       "\n",
       "    .dataframe thead th {\n",
       "        text-align: right;\n",
       "    }\n",
       "</style>\n",
       "<table border=\"1\" class=\"dataframe\">\n",
       "  <thead>\n",
       "    <tr style=\"text-align: right;\">\n",
       "      <th></th>\n",
       "      <th>no</th>\n",
       "      <th>text</th>\n",
       "      <th>class</th>\n",
       "    </tr>\n",
       "  </thead>\n",
       "  <tbody>\n",
       "    <tr>\n",
       "      <th>77039</th>\n",
       "      <td>115671.0</td>\n",
       "      <td>Don’t give this any awards If u give me any aw...</td>\n",
       "      <td>non-suicide</td>\n",
       "    </tr>\n",
       "    <tr>\n",
       "      <th>2563</th>\n",
       "      <td>3825.0</td>\n",
       "      <td>Putting yourself before others is stupid Ultim...</td>\n",
       "      <td>non-suicide</td>\n",
       "    </tr>\n",
       "    <tr>\n",
       "      <th>60061</th>\n",
       "      <td>NaN</td>\n",
       "      <td>do you have any hair styling tips for boys wit...</td>\n",
       "      <td>normal</td>\n",
       "    </tr>\n",
       "    <tr>\n",
       "      <th>40234</th>\n",
       "      <td>NaN</td>\n",
       "      <td>im so proud of you girl yas snapfam you seem m...</td>\n",
       "      <td>normal</td>\n",
       "    </tr>\n",
       "    <tr>\n",
       "      <th>157714</th>\n",
       "      <td>236619.0</td>\n",
       "      <td>True clarity.The short of it; been seeing a th...</td>\n",
       "      <td>suicide</td>\n",
       "    </tr>\n",
       "  </tbody>\n",
       "</table>\n",
       "</div>"
      ],
      "text/plain": [
       "              no                                               text  \\\n",
       "77039   115671.0  Don’t give this any awards If u give me any aw...   \n",
       "2563      3825.0  Putting yourself before others is stupid Ultim...   \n",
       "60061        NaN  do you have any hair styling tips for boys wit...   \n",
       "40234        NaN  im so proud of you girl yas snapfam you seem m...   \n",
       "157714  236619.0  True clarity.The short of it; been seeing a th...   \n",
       "\n",
       "              class  \n",
       "77039   non-suicide  \n",
       "2563    non-suicide  \n",
       "60061        normal  \n",
       "40234        normal  \n",
       "157714      suicide  "
      ]
     },
     "execution_count": 12,
     "metadata": {},
     "output_type": "execute_result"
    }
   ],
   "source": [
    "# change this line:\n",
    "work_dir = \"/Users/gohyixian/Downloads\"\n",
    "\n",
    "file_path_1 = work_dir + \"/NLP-Depression/Dataset/Suicide_Detection.csv\"\n",
    "file_path_2 = work_dir + \"/NLP-Depression/Dataset/Normal_Cases.csv\"\n",
    "\n",
    "df1 = pd.read_csv(file_path_1, index_col=None)\n",
    "df2 = pd.read_csv(file_path_2, index_col=None)\n",
    "\n",
    "# combine & shuffle\n",
    "df = pd.concat([df1, df2], axis=0)\n",
    "df = df.sample(frac=1)\n",
    "\n",
    "df.head()"
   ]
  },
  {
   "cell_type": "code",
   "execution_count": 13,
   "id": "17ed5d63",
   "metadata": {},
   "outputs": [
    {
     "name": "stdout",
     "output_type": "stream",
     "text": [
      "(316664,)\n"
     ]
    }
   ],
   "source": [
    "df_text = df[\"text\"]\n",
    "df_class =  df[\"class\"]\n",
    "\n",
    "print(df_text.shape)"
   ]
  },
  {
   "cell_type": "code",
   "execution_count": 14,
   "id": "0fa84b47",
   "metadata": {},
   "outputs": [
    {
     "name": "stdout",
     "output_type": "stream",
     "text": [
      "(316664,)\n"
     ]
    }
   ],
   "source": [
    "print(df_class.shape)"
   ]
  },
  {
   "cell_type": "code",
   "execution_count": 15,
   "id": "b79c78bf",
   "metadata": {},
   "outputs": [],
   "source": [
    "# normal = 0\n",
    "# non-suicide = 1   (depressed)\n",
    "# suicide = 2       (depressed)\n",
    "\n",
    "df_class = df_class.apply(lambda x : \"0\" if \"normal\" in str(x) else (\"1\" if \"non-suicide\" in str(x) else \"2\"))"
   ]
  },
  {
   "cell_type": "code",
   "execution_count": 16,
   "id": "22c720ff",
   "metadata": {},
   "outputs": [
    {
     "data": {
      "text/plain": [
       "77039     1\n",
       "2563      1\n",
       "60061     0\n",
       "40234     0\n",
       "157714    2\n",
       "Name: class, dtype: object"
      ]
     },
     "execution_count": 16,
     "metadata": {},
     "output_type": "execute_result"
    }
   ],
   "source": [
    "df_class.head()"
   ]
  },
  {
   "cell_type": "code",
   "execution_count": 17,
   "id": "1e89d86d",
   "metadata": {},
   "outputs": [
    {
     "name": "stdout",
     "output_type": "stream",
     "text": [
      "(316664, 2)\n"
     ]
    },
    {
     "data": {
      "text/html": [
       "<div>\n",
       "<style scoped>\n",
       "    .dataframe tbody tr th:only-of-type {\n",
       "        vertical-align: middle;\n",
       "    }\n",
       "\n",
       "    .dataframe tbody tr th {\n",
       "        vertical-align: top;\n",
       "    }\n",
       "\n",
       "    .dataframe thead th {\n",
       "        text-align: right;\n",
       "    }\n",
       "</style>\n",
       "<table border=\"1\" class=\"dataframe\">\n",
       "  <thead>\n",
       "    <tr style=\"text-align: right;\">\n",
       "      <th></th>\n",
       "      <th>text</th>\n",
       "      <th>class</th>\n",
       "    </tr>\n",
       "  </thead>\n",
       "  <tbody>\n",
       "    <tr>\n",
       "      <th>77039</th>\n",
       "      <td>Don’t give this any awards If u give me any aw...</td>\n",
       "      <td>1</td>\n",
       "    </tr>\n",
       "    <tr>\n",
       "      <th>2563</th>\n",
       "      <td>Putting yourself before others is stupid Ultim...</td>\n",
       "      <td>1</td>\n",
       "    </tr>\n",
       "    <tr>\n",
       "      <th>60061</th>\n",
       "      <td>do you have any hair styling tips for boys wit...</td>\n",
       "      <td>0</td>\n",
       "    </tr>\n",
       "    <tr>\n",
       "      <th>40234</th>\n",
       "      <td>im so proud of you girl yas snapfam you seem m...</td>\n",
       "      <td>0</td>\n",
       "    </tr>\n",
       "    <tr>\n",
       "      <th>157714</th>\n",
       "      <td>True clarity.The short of it; been seeing a th...</td>\n",
       "      <td>2</td>\n",
       "    </tr>\n",
       "  </tbody>\n",
       "</table>\n",
       "</div>"
      ],
      "text/plain": [
       "                                                     text class\n",
       "77039   Don’t give this any awards If u give me any aw...     1\n",
       "2563    Putting yourself before others is stupid Ultim...     1\n",
       "60061   do you have any hair styling tips for boys wit...     0\n",
       "40234   im so proud of you girl yas snapfam you seem m...     0\n",
       "157714  True clarity.The short of it; been seeing a th...     2"
      ]
     },
     "execution_count": 17,
     "metadata": {},
     "output_type": "execute_result"
    }
   ],
   "source": [
    "df = pd.concat([df_text, df_class], axis=1)\n",
    "print(df.shape)\n",
    "\n",
    "df.head()"
   ]
  },
  {
   "cell_type": "code",
   "execution_count": 18,
   "id": "8911a162",
   "metadata": {},
   "outputs": [
    {
     "name": "stdout",
     "output_type": "stream",
     "text": [
      "<class 'pandas.core.frame.DataFrame'>\n",
      "Int64Index: 316664 entries, 77039 to 102991\n",
      "Data columns (total 2 columns):\n",
      " #   Column  Non-Null Count   Dtype \n",
      "---  ------  --------------   ----- \n",
      " 0   text    316664 non-null  object\n",
      " 1   class   316664 non-null  object\n",
      "dtypes: object(2)\n",
      "memory usage: 7.2+ MB\n"
     ]
    }
   ],
   "source": [
    "df.info()"
   ]
  },
  {
   "cell_type": "code",
   "execution_count": 19,
   "id": "f8f39148",
   "metadata": {},
   "outputs": [
    {
     "name": "stdout",
     "output_type": "stream",
     "text": [
      "There are 316664 rows & 2 columns\n"
     ]
    }
   ],
   "source": [
    "df = df[df[\"text\"].notna()]\n",
    "nrow, ncol = df.shape\n",
    "\n",
    "print(f\"There are {nrow} rows & {ncol} columns\")"
   ]
  },
  {
   "cell_type": "markdown",
   "id": "200de42d",
   "metadata": {},
   "source": [
    "# Pre-Processing\n",
    "<ul>\n",
    "    <li>Noise Cleaning - Removing emojis</li>\n",
    "    <li>Expand contractions</li>\n",
    "    <li>Remove stopwords</li>\n",
    "</ul>"
   ]
  },
  {
   "cell_type": "code",
   "execution_count": 20,
   "id": "b9279551",
   "metadata": {},
   "outputs": [
    {
     "data": {
      "text/html": [
       "<div>\n",
       "<style scoped>\n",
       "    .dataframe tbody tr th:only-of-type {\n",
       "        vertical-align: middle;\n",
       "    }\n",
       "\n",
       "    .dataframe tbody tr th {\n",
       "        vertical-align: top;\n",
       "    }\n",
       "\n",
       "    .dataframe thead th {\n",
       "        text-align: right;\n",
       "    }\n",
       "</style>\n",
       "<table border=\"1\" class=\"dataframe\">\n",
       "  <thead>\n",
       "    <tr style=\"text-align: right;\">\n",
       "      <th></th>\n",
       "      <th>text</th>\n",
       "      <th>class</th>\n",
       "    </tr>\n",
       "  </thead>\n",
       "  <tbody>\n",
       "    <tr>\n",
       "      <th>77039</th>\n",
       "      <td>Dont give this any awards If u give me any awa...</td>\n",
       "      <td>1</td>\n",
       "    </tr>\n",
       "    <tr>\n",
       "      <th>2563</th>\n",
       "      <td>Putting yourself before others is stupid Ultim...</td>\n",
       "      <td>1</td>\n",
       "    </tr>\n",
       "    <tr>\n",
       "      <th>60061</th>\n",
       "      <td>do you have any hair styling tips for boys wit...</td>\n",
       "      <td>0</td>\n",
       "    </tr>\n",
       "    <tr>\n",
       "      <th>40234</th>\n",
       "      <td>im so proud of you girl yas snapfam you seem m...</td>\n",
       "      <td>0</td>\n",
       "    </tr>\n",
       "    <tr>\n",
       "      <th>157714</th>\n",
       "      <td>True clarityThe short of it been seeing a ther...</td>\n",
       "      <td>2</td>\n",
       "    </tr>\n",
       "  </tbody>\n",
       "</table>\n",
       "</div>"
      ],
      "text/plain": [
       "                                                     text class\n",
       "77039   Dont give this any awards If u give me any awa...     1\n",
       "2563    Putting yourself before others is stupid Ultim...     1\n",
       "60061   do you have any hair styling tips for boys wit...     0\n",
       "40234   im so proud of you girl yas snapfam you seem m...     0\n",
       "157714  True clarityThe short of it been seeing a ther...     2"
      ]
     },
     "execution_count": 20,
     "metadata": {},
     "output_type": "execute_result"
    }
   ],
   "source": [
    "# converting emojis to \"\"\n",
    "# might take a while..\n",
    "\n",
    "# white-space split\n",
    "df[\"text\"] = df[\"text\"].apply(lambda x : [word for word in x.split(\" \")])\n",
    "\n",
    "df[\"text\"] = df[\"text\"].apply(lambda x : [re.sub(r\"[^\\w\\d\\s\\']+\", \"\", word) for word in x])\n",
    "\n",
    "emoj = re.compile(\"[\"\n",
    "    u\"\\U0001F600-\\U0001F64F\"  # emoticons\n",
    "    u\"\\U0001F300-\\U0001F5FF\"  # symbols & pictographs\n",
    "    u\"\\U0001F680-\\U0001F6FF\"  # transport & map symbols\n",
    "    u\"\\U0001F1E0-\\U0001F1FF\"  # flags (iOS)\n",
    "    u\"\\U00002500-\\U00002BEF\"  # chinese char\n",
    "    u\"\\U00002702-\\U000027B0\"\n",
    "    u\"\\U00002702-\\U000027B0\"\n",
    "    u\"\\U000024C2-\\U0001F251\"\n",
    "    u\"\\U0001f926-\\U0001f937\"\n",
    "    u\"\\U00010000-\\U0010ffff\"\n",
    "    u\"\\u2640-\\u2642\" \n",
    "    u\"\\u2600-\\u2B55\"\n",
    "    u\"\\u200d\"\n",
    "    u\"\\u23cf\"\n",
    "    u\"\\u23e9\"\n",
    "    u\"\\u231a\"\n",
    "    u\"\\ufe0f\"  # dingbats\n",
    "    u\"\\u3030\"\n",
    "    \"]+\", re.UNICODE)\n",
    "\n",
    "df[\"text\"] = df[\"text\"].apply(lambda x : [re.sub(emoj, \"\", word) for word in x])\n",
    "\n",
    "# Using the encode() function and the decode() function from removing the Unicode characters \n",
    "# from the String. Encode() function will encode the string into ‘ASCII’ and error as ‘ignore’ \n",
    "# to remove Unicode characters. Decode() function will then decode the string back in its form.\n",
    "# A short cut to remove emoji variants (🤟🏻🤟🤟🏽🤟🏿) that are not filtered in the above steps\n",
    "df[\"text\"] = df[\"text\"].apply(lambda x : [word.encode(\"ascii\", \"ignore\").decode() for word in x])\n",
    "\n",
    "df[\"text\"] = [' '.join(map(str, word)) for word in df[\"text\"]]\n",
    "\n",
    "df.head()"
   ]
  },
  {
   "cell_type": "code",
   "execution_count": 21,
   "id": "383fb6a6",
   "metadata": {},
   "outputs": [
    {
     "name": "stdout",
     "output_type": "stream",
     "text": [
      "There are 13 rows that are either empty, containing emojis or ASCII-unencodable and have been removed\n",
      "Resulting : (316651, 2)\n"
     ]
    }
   ],
   "source": [
    "# removing rows that are \"\"\n",
    "\n",
    "df = df[df[\"text\"] != \"\"]\n",
    "print(\"There are \" + str(nrow - df.shape[0]) + \" rows that are either empty, containing emojis or ASCII-unencodable and have been removed\")\n",
    "print(\"Resulting : \"+str(df.shape))"
   ]
  },
  {
   "cell_type": "code",
   "execution_count": 22,
   "id": "a002ce80",
   "metadata": {},
   "outputs": [
    {
     "data": {
      "text/html": [
       "<div>\n",
       "<style scoped>\n",
       "    .dataframe tbody tr th:only-of-type {\n",
       "        vertical-align: middle;\n",
       "    }\n",
       "\n",
       "    .dataframe tbody tr th {\n",
       "        vertical-align: top;\n",
       "    }\n",
       "\n",
       "    .dataframe thead th {\n",
       "        text-align: right;\n",
       "    }\n",
       "</style>\n",
       "<table border=\"1\" class=\"dataframe\">\n",
       "  <thead>\n",
       "    <tr style=\"text-align: right;\">\n",
       "      <th></th>\n",
       "      <th>text</th>\n",
       "      <th>class</th>\n",
       "    </tr>\n",
       "  </thead>\n",
       "  <tbody>\n",
       "    <tr>\n",
       "      <th>77039</th>\n",
       "      <td>do not give this any awards if you give me any...</td>\n",
       "      <td>1</td>\n",
       "    </tr>\n",
       "    <tr>\n",
       "      <th>2563</th>\n",
       "      <td>putting yourself before others is stupid ultim...</td>\n",
       "      <td>1</td>\n",
       "    </tr>\n",
       "    <tr>\n",
       "      <th>60061</th>\n",
       "      <td>do you have any hair styling tips for boys wit...</td>\n",
       "      <td>0</td>\n",
       "    </tr>\n",
       "    <tr>\n",
       "      <th>40234</th>\n",
       "      <td>i am so proud of you girl yas snapfam you seem...</td>\n",
       "      <td>0</td>\n",
       "    </tr>\n",
       "    <tr>\n",
       "      <th>157714</th>\n",
       "      <td>true claritythe short of it been seeing a ther...</td>\n",
       "      <td>2</td>\n",
       "    </tr>\n",
       "  </tbody>\n",
       "</table>\n",
       "</div>"
      ],
      "text/plain": [
       "                                                     text class\n",
       "77039   do not give this any awards if you give me any...     1\n",
       "2563    putting yourself before others is stupid ultim...     1\n",
       "60061   do you have any hair styling tips for boys wit...     0\n",
       "40234   i am so proud of you girl yas snapfam you seem...     0\n",
       "157714  true claritythe short of it been seeing a ther...     2"
      ]
     },
     "execution_count": 22,
     "metadata": {},
     "output_type": "execute_result"
    }
   ],
   "source": [
    "# expanding contractions\n",
    "# this line might take some time to run..\n",
    "\n",
    "df[\"text\"] = df[\"text\"].str.lower()\n",
    "df[\"text\"] = df[\"text\"].apply(lambda x : [contractions.fix(word) for word in x.split(\" \")])\n",
    "df[\"text\"] = [' '.join(map(str, l)) for l in df[\"text\"]]\n",
    "\n",
    "df.head()"
   ]
  },
  {
   "cell_type": "code",
   "execution_count": 23,
   "id": "b4b7c9eb",
   "metadata": {},
   "outputs": [
    {
     "data": {
      "text/html": [
       "<div>\n",
       "<style scoped>\n",
       "    .dataframe tbody tr th:only-of-type {\n",
       "        vertical-align: middle;\n",
       "    }\n",
       "\n",
       "    .dataframe tbody tr th {\n",
       "        vertical-align: top;\n",
       "    }\n",
       "\n",
       "    .dataframe thead th {\n",
       "        text-align: right;\n",
       "    }\n",
       "</style>\n",
       "<table border=\"1\" class=\"dataframe\">\n",
       "  <thead>\n",
       "    <tr style=\"text-align: right;\">\n",
       "      <th></th>\n",
       "      <th>text</th>\n",
       "      <th>class</th>\n",
       "      <th>text_tokenize</th>\n",
       "    </tr>\n",
       "  </thead>\n",
       "  <tbody>\n",
       "    <tr>\n",
       "      <th>77039</th>\n",
       "      <td>do not give this any awards if you give me any...</td>\n",
       "      <td>1</td>\n",
       "      <td>[do, not, give, this, any, awards, if, you, gi...</td>\n",
       "    </tr>\n",
       "    <tr>\n",
       "      <th>2563</th>\n",
       "      <td>putting yourself before others is stupid ultim...</td>\n",
       "      <td>1</td>\n",
       "      <td>[putting, yourself, before, others, is, stupid...</td>\n",
       "    </tr>\n",
       "    <tr>\n",
       "      <th>60061</th>\n",
       "      <td>do you have any hair styling tips for boys wit...</td>\n",
       "      <td>0</td>\n",
       "      <td>[do, you, have, any, hair, styling, tips, for,...</td>\n",
       "    </tr>\n",
       "    <tr>\n",
       "      <th>40234</th>\n",
       "      <td>i am so proud of you girl yas snapfam you seem...</td>\n",
       "      <td>0</td>\n",
       "      <td>[i, am, so, proud, of, you, girl, yas, snapfam...</td>\n",
       "    </tr>\n",
       "    <tr>\n",
       "      <th>157714</th>\n",
       "      <td>true claritythe short of it been seeing a ther...</td>\n",
       "      <td>2</td>\n",
       "      <td>[true, claritythe, short, of, it, been, seeing...</td>\n",
       "    </tr>\n",
       "  </tbody>\n",
       "</table>\n",
       "</div>"
      ],
      "text/plain": [
       "                                                     text class  \\\n",
       "77039   do not give this any awards if you give me any...     1   \n",
       "2563    putting yourself before others is stupid ultim...     1   \n",
       "60061   do you have any hair styling tips for boys wit...     0   \n",
       "40234   i am so proud of you girl yas snapfam you seem...     0   \n",
       "157714  true claritythe short of it been seeing a ther...     2   \n",
       "\n",
       "                                            text_tokenize  \n",
       "77039   [do, not, give, this, any, awards, if, you, gi...  \n",
       "2563    [putting, yourself, before, others, is, stupid...  \n",
       "60061   [do, you, have, any, hair, styling, tips, for,...  \n",
       "40234   [i, am, so, proud, of, you, girl, yas, snapfam...  \n",
       "157714  [true, claritythe, short, of, it, been, seeing...  "
      ]
     },
     "execution_count": 23,
     "metadata": {},
     "output_type": "execute_result"
    }
   ],
   "source": [
    "# word tokenization\n",
    "# this line too might take some time to run...\n",
    "\n",
    "from nltk.tokenize import word_tokenize\n",
    "df[\"text_tokenize\"] = df[\"text\"].apply(word_tokenize)\n",
    "\n",
    "df.head()"
   ]
  },
  {
   "cell_type": "code",
   "execution_count": 24,
   "id": "277306da",
   "metadata": {},
   "outputs": [
    {
     "data": {
      "text/html": [
       "<div>\n",
       "<style scoped>\n",
       "    .dataframe tbody tr th:only-of-type {\n",
       "        vertical-align: middle;\n",
       "    }\n",
       "\n",
       "    .dataframe tbody tr th {\n",
       "        vertical-align: top;\n",
       "    }\n",
       "\n",
       "    .dataframe thead th {\n",
       "        text-align: right;\n",
       "    }\n",
       "</style>\n",
       "<table border=\"1\" class=\"dataframe\">\n",
       "  <thead>\n",
       "    <tr style=\"text-align: right;\">\n",
       "      <th></th>\n",
       "      <th>text</th>\n",
       "      <th>class</th>\n",
       "      <th>text_tokenize</th>\n",
       "      <th>text_join</th>\n",
       "    </tr>\n",
       "  </thead>\n",
       "  <tbody>\n",
       "    <tr>\n",
       "      <th>77039</th>\n",
       "      <td>do not give this any awards if you give me any...</td>\n",
       "      <td>1</td>\n",
       "      <td>[give, awards, give, awards, ill, kiss, cat, l...</td>\n",
       "      <td>give awards give awards ill kiss cat lips bett...</td>\n",
       "    </tr>\n",
       "    <tr>\n",
       "      <th>2563</th>\n",
       "      <td>putting yourself before others is stupid ultim...</td>\n",
       "      <td>1</td>\n",
       "      <td>[putting, others, stupid, ultimately, matters,...</td>\n",
       "      <td>putting others stupid ultimately matters sure ...</td>\n",
       "    </tr>\n",
       "    <tr>\n",
       "      <th>60061</th>\n",
       "      <td>do you have any hair styling tips for boys wit...</td>\n",
       "      <td>0</td>\n",
       "      <td>[hair, styling, tips, boys, receding, hairplea...</td>\n",
       "      <td>hair styling tips boys receding hairpleasei ex...</td>\n",
       "    </tr>\n",
       "    <tr>\n",
       "      <th>40234</th>\n",
       "      <td>i am so proud of you girl yas snapfam you seem...</td>\n",
       "      <td>0</td>\n",
       "      <td>[proud, girl, yas, snapfam, seem, nervous, chi...</td>\n",
       "      <td>proud girl yas snapfam seem nervous chicken be...</td>\n",
       "    </tr>\n",
       "    <tr>\n",
       "      <th>157714</th>\n",
       "      <td>true claritythe short of it been seeing a ther...</td>\n",
       "      <td>2</td>\n",
       "      <td>[true, claritythe, short, seeing, therapist, t...</td>\n",
       "      <td>true claritythe short seeing therapist taking ...</td>\n",
       "    </tr>\n",
       "  </tbody>\n",
       "</table>\n",
       "</div>"
      ],
      "text/plain": [
       "                                                     text class  \\\n",
       "77039   do not give this any awards if you give me any...     1   \n",
       "2563    putting yourself before others is stupid ultim...     1   \n",
       "60061   do you have any hair styling tips for boys wit...     0   \n",
       "40234   i am so proud of you girl yas snapfam you seem...     0   \n",
       "157714  true claritythe short of it been seeing a ther...     2   \n",
       "\n",
       "                                            text_tokenize  \\\n",
       "77039   [give, awards, give, awards, ill, kiss, cat, l...   \n",
       "2563    [putting, others, stupid, ultimately, matters,...   \n",
       "60061   [hair, styling, tips, boys, receding, hairplea...   \n",
       "40234   [proud, girl, yas, snapfam, seem, nervous, chi...   \n",
       "157714  [true, claritythe, short, seeing, therapist, t...   \n",
       "\n",
       "                                                text_join  \n",
       "77039   give awards give awards ill kiss cat lips bett...  \n",
       "2563    putting others stupid ultimately matters sure ...  \n",
       "60061   hair styling tips boys receding hairpleasei ex...  \n",
       "40234   proud girl yas snapfam seem nervous chicken be...  \n",
       "157714  true claritythe short seeing therapist taking ...  "
      ]
     },
     "execution_count": 24,
     "metadata": {},
     "output_type": "execute_result"
    }
   ],
   "source": [
    "# removing stopwords & numbers\n",
    "# this too might take some time..\n",
    "\n",
    "from nltk.corpus import stopwords\n",
    "stopwords = set(stopwords.words('english'))\n",
    "\n",
    "df[\"text_tokenize\"] = df[\"text_tokenize\"].apply(lambda x : [word for word in x if word not in stopwords])\n",
    "df[\"text_tokenize\"] = df[\"text_tokenize\"].apply(lambda x : [word for word in x if not word.isdigit()])\n",
    "df[\"text_join\"] = [' '.join(map(str, l)) for l in df[\"text_tokenize\"]]\n",
    "\n",
    "df.head()"
   ]
  },
  {
   "cell_type": "code",
   "execution_count": 25,
   "id": "624356b6",
   "metadata": {},
   "outputs": [
    {
     "data": {
      "text/plain": [
       "<AxesSubplot:xlabel='class', ylabel='count'>"
      ]
     },
     "execution_count": 25,
     "metadata": {},
     "output_type": "execute_result"
    },
    {
     "data": {
      "image/png": "[encoded data removed]",
      "text/plain": [
       "<Figure size 432x288 with 1 Axes>"
      ]
     },
     "metadata": {
      "needs_background": "light"
     },
     "output_type": "display_data"
    }
   ],
   "source": [
    "sns.countplot(x = df[\"class\"])"
   ]
  },
  {
   "cell_type": "code",
   "execution_count": 26,
   "id": "553163fd",
   "metadata": {},
   "outputs": [
    {
     "data": {
      "text/plain": [
       "1    116037\n",
       "2    116033\n",
       "0     84581\n",
       "Name: class, dtype: int64"
      ]
     },
     "execution_count": 26,
     "metadata": {},
     "output_type": "execute_result"
    }
   ],
   "source": [
    "df[\"class\"].value_counts()"
   ]
  },
  {
   "cell_type": "code",
   "execution_count": 27,
   "id": "769f019b",
   "metadata": {},
   "outputs": [
    {
     "name": "stdout",
     "output_type": "stream",
     "text": [
      "(142598, 4)\n"
     ]
    }
   ],
   "source": [
    "# Sampling from data\n",
    "\n",
    "# Training data from Suicide_Detection.csv contains a lot of sarcasm\n",
    "# For example, \"What a good day today, heck lot of assignments!\" (Depression)\n",
    "\n",
    "# Positive words like \"Happy\",\"Good Day\",\"Good Morning\" are being labelled\n",
    "# as words od depression. Thus to overcome it, we will train the model on \n",
    "# training data with ratio (Normal : Depressed : Suicidal) = (3:1:1),\n",
    "# making the model biased towards the \"Normal\" class, thus balancing out\n",
    "# the effects from sarcasm.\n",
    "\n",
    "# Original data for class \"1\" & \"2\", 100,000 for each classification category.\n",
    "\n",
    "df_0 = df[df[\"class\"] == \"0\"].sample(frac=1.00)  # 100% out of 84,000\n",
    "df_1 = df[df[\"class\"] == \"1\"].sample(frac=0.25)  # 25% out of 116000 ~= 29000\n",
    "df_2 = df[df[\"class\"] == \"2\"].sample(frac=0.25)  # 25% out of 116000 ~= 29000\n",
    "\n",
    "df = pd.concat([df_0, df_1, df_2], axis=0)\n",
    "# use sample (fraction=1.0) (all) to shuffle data\n",
    "df = df.sample(frac=1)\n",
    "\n",
    "print(df.shape)"
   ]
  },
  {
   "cell_type": "code",
   "execution_count": 28,
   "id": "49e5c5ec",
   "metadata": {},
   "outputs": [
    {
     "data": {
      "text/html": [
       "<div>\n",
       "<style scoped>\n",
       "    .dataframe tbody tr th:only-of-type {\n",
       "        vertical-align: middle;\n",
       "    }\n",
       "\n",
       "    .dataframe tbody tr th {\n",
       "        vertical-align: top;\n",
       "    }\n",
       "\n",
       "    .dataframe thead th {\n",
       "        text-align: right;\n",
       "    }\n",
       "</style>\n",
       "<table border=\"1\" class=\"dataframe\">\n",
       "  <thead>\n",
       "    <tr style=\"text-align: right;\">\n",
       "      <th></th>\n",
       "      <th>text</th>\n",
       "      <th>class</th>\n",
       "      <th>text_tokenize</th>\n",
       "      <th>text_join</th>\n",
       "    </tr>\n",
       "  </thead>\n",
       "  <tbody>\n",
       "    <tr>\n",
       "      <th>14564</th>\n",
       "      <td>best methodi live in the uk so i have no acces...</td>\n",
       "      <td>2</td>\n",
       "      <td>[best, methodi, live, uk, access, firearms, so...</td>\n",
       "      <td>best methodi live uk access firearms someone t...</td>\n",
       "    </tr>\n",
       "    <tr>\n",
       "      <th>68358</th>\n",
       "      <td>a relieving update i have enough oxycodone to ...</td>\n",
       "      <td>2</td>\n",
       "      <td>[relieving, update, enough, oxycodone, overdos...</td>\n",
       "      <td>relieving update enough oxycodone overdose goi...</td>\n",
       "    </tr>\n",
       "    <tr>\n",
       "      <th>15876</th>\n",
       "      <td>i need a wayi need a fucking way to die becaus...</td>\n",
       "      <td>2</td>\n",
       "      <td>[need, wayi, need, fucking, way, die, pussy, c...</td>\n",
       "      <td>need wayi need fucking way die pussy cut death...</td>\n",
       "    </tr>\n",
       "    <tr>\n",
       "      <th>134933</th>\n",
       "      <td>i know i need to redo this i have this really ...</td>\n",
       "      <td>1</td>\n",
       "      <td>[know, need, redo, really, big, project, scien...</td>\n",
       "      <td>know need redo really big project science basi...</td>\n",
       "    </tr>\n",
       "    <tr>\n",
       "      <th>38356</th>\n",
       "      <td>i can finally post i can finally post on rteen...</td>\n",
       "      <td>1</td>\n",
       "      <td>[finally, post, finally, post, rteenagers, wou...</td>\n",
       "      <td>finally post finally post rteenagers would lik...</td>\n",
       "    </tr>\n",
       "  </tbody>\n",
       "</table>\n",
       "</div>"
      ],
      "text/plain": [
       "                                                     text class  \\\n",
       "14564   best methodi live in the uk so i have no acces...     2   \n",
       "68358   a relieving update i have enough oxycodone to ...     2   \n",
       "15876   i need a wayi need a fucking way to die becaus...     2   \n",
       "134933  i know i need to redo this i have this really ...     1   \n",
       "38356   i can finally post i can finally post on rteen...     1   \n",
       "\n",
       "                                            text_tokenize  \\\n",
       "14564   [best, methodi, live, uk, access, firearms, so...   \n",
       "68358   [relieving, update, enough, oxycodone, overdos...   \n",
       "15876   [need, wayi, need, fucking, way, die, pussy, c...   \n",
       "134933  [know, need, redo, really, big, project, scien...   \n",
       "38356   [finally, post, finally, post, rteenagers, wou...   \n",
       "\n",
       "                                                text_join  \n",
       "14564   best methodi live uk access firearms someone t...  \n",
       "68358   relieving update enough oxycodone overdose goi...  \n",
       "15876   need wayi need fucking way die pussy cut death...  \n",
       "134933  know need redo really big project science basi...  \n",
       "38356   finally post finally post rteenagers would lik...  "
      ]
     },
     "execution_count": 28,
     "metadata": {},
     "output_type": "execute_result"
    }
   ],
   "source": [
    "df.head()"
   ]
  },
  {
   "cell_type": "markdown",
   "id": "b43fb5eb",
   "metadata": {},
   "source": [
    "# Visualizing Data\n"
   ]
  },
  {
   "cell_type": "code",
   "execution_count": 29,
   "id": "a25d5c63",
   "metadata": {},
   "outputs": [],
   "source": [
    "# visualize stopwords\n",
    "\n",
    "%matplotlib inline\n",
    "def plot_top_stopwords(txt, stopwords):\n",
    "    new = txt.str.split(\" \")\n",
    "    new = new.values.tolist()\n",
    "    corpus = [word for i in new for word in i]\n",
    "    \n",
    "    dic = dict()\n",
    "    for word in corpus:\n",
    "        if word in stopwords:\n",
    "            dic[str(word)] = dic.get(str(word), 0) + 1\n",
    "    \n",
    "    # top 10\n",
    "    top = sorted(dic.items(), key = lambda x : x[1], reverse=True)[:10]\n",
    "    \n",
    "    # unzip items\n",
    "    x, y = zip(*top)\n",
    "    plt.figure(figsize=(10,10))\n",
    "    plt.bar(x, y)"
   ]
  },
  {
   "cell_type": "code",
   "execution_count": 30,
   "id": "c79dcb3f",
   "metadata": {},
   "outputs": [
    {
     "data": {
      "image/png": "[encoded data removed]",
      "text/plain": [
       "<Figure size 720x720 with 1 Axes>"
      ]
     },
     "metadata": {
      "needs_background": "light"
     },
     "output_type": "display_data"
    }
   ],
   "source": [
    "# might take some time..\n",
    "\n",
    "# *uncleaned data\n",
    "plot_top_stopwords(df[\"text\"], stopwords)"
   ]
  },
  {
   "cell_type": "code",
   "execution_count": 31,
   "id": "caeb43f8",
   "metadata": {},
   "outputs": [],
   "source": [
    "import seaborn as sns\n",
    "from collections import Counter\n",
    "\n",
    "def plot_top_non_stopwords(txt, stopwords):\n",
    "    new = txt.str.split(\" \")\n",
    "    new = new.values.tolist()\n",
    "    corpus = [word for i in new for word in i]\n",
    "    \n",
    "    counter = Counter(corpus)\n",
    "    most = counter.most_common()\n",
    "    x, y = [], []\n",
    "    for word, count in most[:200]:\n",
    "        if (word not in stopwords):\n",
    "            x.append(word)\n",
    "            y.append(count)\n",
    "    \n",
    "    plt.figure(figsize = (15, 30))\n",
    "    sns.barplot(x=y, y=x)\n",
    "    "
   ]
  },
  {
   "cell_type": "code",
   "execution_count": 32,
   "id": "ecbdc574",
   "metadata": {},
   "outputs": [
    {
     "data": {
      "image/png": "[encoded data removed]",
      "text/plain": [
       "<Figure size 1080x2160 with 1 Axes>"
      ]
     },
     "metadata": {
      "needs_background": "light"
     },
     "output_type": "display_data"
    }
   ],
   "source": [
    "# might take some time..\n",
    "\n",
    "# *uncleaned data\n",
    "plot_top_non_stopwords(df[\"text\"], stopwords)"
   ]
  },
  {
   "cell_type": "code",
   "execution_count": 33,
   "id": "e17e5d5f",
   "metadata": {
    "scrolled": false
   },
   "outputs": [
    {
     "data": {
      "image/png": "[encoded data removed]",
      "text/plain": [
       "<Figure size 1080x1080 with 1 Axes>"
      ]
     },
     "metadata": {
      "needs_background": "light"
     },
     "output_type": "display_data"
    },
    {
     "data": {
      "text/plain": [
       "<AxesSubplot:title={'center':'PosTag plot for 4454805-token corpus'}, xlabel='Penn Treebank part-of-speech tags', ylabel='Count'>"
      ]
     },
     "execution_count": 33,
     "metadata": {},
     "output_type": "execute_result"
    }
   ],
   "source": [
    "# visualize POS tags (part of speech tagging)\n",
    "# might take more time to run..\n",
    "\n",
    "tagged_stanzas_df = []\n",
    "tagged_df = []\n",
    "\n",
    "for word in df[\"text_tokenize\"]:\n",
    "    tagged_word = nltk.pos_tag(word)\n",
    "    tagged_stanzas_df.append(tagged_word)\n",
    "    \n",
    "# create this format for yellowbrick visualizer. It only takes 2 values.\n",
    "tagged_df.append(tagged_stanzas_df)\n",
    "\n",
    "\n",
    "from yellowbrick.text import PosTagVisualizer\n",
    "\n",
    "plt.figure(figsize=(15, 15))\n",
    "viz = PosTagVisualizer()\n",
    "viz.fit(tagged_df)\n",
    "viz.show()"
   ]
  },
  {
   "cell_type": "code",
   "execution_count": 34,
   "id": "39dbf3be",
   "metadata": {
    "scrolled": true
   },
   "outputs": [
    {
     "data": {
      "text/plain": [
       "0    84581\n",
       "1    29009\n",
       "2    29008\n",
       "Name: class, dtype: int64"
      ]
     },
     "execution_count": 34,
     "metadata": {},
     "output_type": "execute_result"
    }
   ],
   "source": [
    "# visualize labels\n",
    "\n",
    "df[\"class\"].value_counts()"
   ]
  },
  {
   "cell_type": "code",
   "execution_count": 35,
   "id": "da9d826e",
   "metadata": {
    "scrolled": false
   },
   "outputs": [
    {
     "data": {
      "text/plain": [
       "<AxesSubplot:xlabel='class', ylabel='count'>"
      ]
     },
     "execution_count": 35,
     "metadata": {},
     "output_type": "execute_result"
    },
    {
     "data": {
      "image/png": "[encoded data removed]",
      "text/plain": [
       "<Figure size 432x288 with 1 Axes>"
      ]
     },
     "metadata": {
      "needs_background": "light"
     },
     "output_type": "display_data"
    }
   ],
   "source": [
    "sns.countplot(x = df[\"class\"])"
   ]
  },
  {
   "cell_type": "markdown",
   "id": "56e90e4b",
   "metadata": {},
   "source": [
    "# Exporting Data to CSV"
   ]
  },
  {
   "cell_type": "code",
   "execution_count": 39,
   "id": "afad8fe9",
   "metadata": {},
   "outputs": [
    {
     "name": "stdout",
     "output_type": "stream",
     "text": [
      "OK\n"
     ]
    }
   ],
   "source": [
    "from pathlib import Path\n",
    "\n",
    "# Here, we sample 0.8 as training data, the other 0.2 as validation data\n",
    "# During training, we will again split the training data into 0.8 training, 0.2 testing\n",
    "# This gives us roughly 0.64 training, 0.16 testing, 0.2 validation data\n",
    "\n",
    "export_dir_train = work_dir + \"/NLP-Depression/Dataset/training_data.csv\"\n",
    "export_dir_val = work_dir + \"/NLP-Depression/Dataset/validation_data.csv\"\n",
    "\n",
    "# since total = 142598\n",
    "# 0.8 = 114078\n",
    "# 0.2 = 28520\n",
    "df_train = df.head(114078)\n",
    "df_val = df.tail(28520)\n",
    "\n",
    "df_train = pd.DataFrame(df_train)\n",
    "df_train.to_csv(path_or_buf=Path(export_dir_train), \n",
    "                sep=\",\", \n",
    "                na_rep=\"\", \n",
    "                columns=[\"text_join\", \"class\"], \n",
    "                index=False)\n",
    "\n",
    "df_val = pd.DataFrame(df_val)\n",
    "df_val.to_csv(path_or_buf=Path(export_dir_val), \n",
    "              sep=\",\", \n",
    "              na_rep=\"\", \n",
    "              columns=[\"text_join\", \"class\"], \n",
    "              index=False)\n",
    "print(\"OK\")"
   ]
  },
  {
   "cell_type": "code",
   "execution_count": null,
   "id": "ece5c934",
   "metadata": {},
   "outputs": [],
   "source": []
  }
 ],
 "metadata": {
  "kernelspec": {
   "display_name": "Python 3 (ipykernel)",
   "language": "python",
   "name": "python3"
  },
  "language_info": {
   "codemirror_mode": {
    "name": "ipython",
    "version": 3
   },
   "file_extension": ".py",
   "mimetype": "text/x-python",
   "name": "python",
   "nbconvert_exporter": "python",
   "pygments_lexer": "ipython3",
   "version": "3.9.13"
  }
 },
 "nbformat": 4,
 "nbformat_minor": 5
}
