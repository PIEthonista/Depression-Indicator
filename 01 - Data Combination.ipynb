{
 "cells": [
  {
   "cell_type": "code",
   "execution_count": 6,
   "id": "f07096c5",
   "metadata": {},
   "outputs": [],
   "source": [
    "import pandas as pd\n",
    "import os\n",
    "import regex as re"
   ]
  },
  {
   "cell_type": "code",
   "execution_count": 7,
   "id": "200d1845",
   "metadata": {},
   "outputs": [],
   "source": [
    "# change this line:\n",
    "work_dir = \"/Users/gohyixian/Downloads\""
   ]
  },
  {
   "cell_type": "markdown",
   "id": "cb8d68c1",
   "metadata": {},
   "source": [
    "# Dir: Dataset/Random_Topics"
   ]
  },
  {
   "cell_type": "code",
   "execution_count": 8,
   "id": "07c50c9c",
   "metadata": {
    "scrolled": false
   },
   "outputs": [
    {
     "name": "stdout",
     "output_type": "stream",
     "text": [
      "OK (22293, 2)\n",
      "3706 rows are NAs\n"
     ]
    }
   ],
   "source": [
    "csv_path_01 = work_dir + \"/NLP-Depression/Dataset/Random_Topics/\"\n",
    "\n",
    "# list of csv to extract column \"title\"\n",
    "listz_01 = [\"aww.csv\",\n",
    "            \"food.csv\", \n",
    "            \"funny.csv\", \n",
    "            \"gifs.csv\", \n",
    "            \"movies.csv\", \n",
    "            \"pics.csv\", \n",
    "            \"todayilearned.csv\", \n",
    "            \"videos.csv\", \n",
    "            \"woahdude.csv\", \n",
    "            \"worldnews.csv\"]\n",
    "\n",
    "# list of csv to extract columns \"title\", \"selftext\"\n",
    "listz_02 = [\"AskReddit.csv\", \n",
    "            \"books.csv\", \n",
    "            \"explainlikeimfive.csv\", \n",
    "            \"GetMotivated.csv\", \n",
    "            \"IAmA.csv\", \n",
    "            \"Jokes.csv\", \n",
    "            \"LifeProTips.csv\", \n",
    "            \"Showerthoughts.csv\"]\n",
    "\n",
    "# everything will be appended to \"df\"\n",
    "df = None\n",
    "\n",
    "# extract column \"title\"\n",
    "for filename in listz_01:\n",
    "    current_path = csv_path_01 + filename\n",
    "    current_df = pd.read_csv(current_path, index_col=None)\n",
    "    current_df[\"class\"] = pd.DataFrame([\"normal\"] * current_df.shape[0])\n",
    "    current_df = pd.concat([current_df[\"title\"], current_df[\"class\"]], axis=1)\n",
    "    df = pd.concat([df, current_df], axis=0)\n",
    "\n",
    "    \n",
    "# extract columns \"title\", \"selftext\"\n",
    "for filename in listz_02:\n",
    "    current_path = csv_path_01 + filename\n",
    "    current_df = pd.read_csv(current_path, index_col=None)\n",
    "    current_df[\"class\"] = pd.DataFrame([\"normal\"] * current_df.shape[0])\n",
    "    current_df = pd.concat([current_df[\"title\"], current_df[\"class\"]], axis=1)\n",
    "    df = pd.concat([df, current_df], axis=0)\n",
    "    \n",
    "    current_df = pd.read_csv(current_path, index_col=None)\n",
    "    current_df[\"class\"] = pd.DataFrame([\"normal\"] * current_df.shape[0])\n",
    "    current_df = pd.concat([current_df[\"selftext\"], current_df[\"class\"]], axis=1)\n",
    "    # must rename columns before concat else unwanted 3rd column introduced\n",
    "    current_df.columns = [\"title\", \"class\"]\n",
    "    df = pd.concat([df, current_df], axis=0)\n",
    "\n",
    "col1 = df.shape[0]\n",
    "df.columns = [\"text\", \"class\"]\n",
    "df = df[df[\"text\"].notna()]\n",
    "col2 = df.shape[0]\n",
    "                              \n",
    "# use sample (fraction=1.0) (all) to shuffle data\n",
    "df = df.sample(frac=1)\n",
    "\n",
    "print(\"OK\", df.shape)\n",
    "print(col1-col2, \"rows are NAs\")"
   ]
  },
  {
   "cell_type": "code",
   "execution_count": 9,
   "id": "3716fe5c",
   "metadata": {},
   "outputs": [
    {
     "data": {
      "text/html": [
       "<div>\n",
       "<style scoped>\n",
       "    .dataframe tbody tr th:only-of-type {\n",
       "        vertical-align: middle;\n",
       "    }\n",
       "\n",
       "    .dataframe tbody tr th {\n",
       "        vertical-align: top;\n",
       "    }\n",
       "\n",
       "    .dataframe thead th {\n",
       "        text-align: right;\n",
       "    }\n",
       "</style>\n",
       "<table border=\"1\" class=\"dataframe\">\n",
       "  <thead>\n",
       "    <tr style=\"text-align: right;\">\n",
       "      <th></th>\n",
       "      <th>text</th>\n",
       "      <th>class</th>\n",
       "    </tr>\n",
       "  </thead>\n",
       "  <tbody>\n",
       "    <tr>\n",
       "      <th>12</th>\n",
       "      <td>For my final post on Reddit from the Internati...</td>\n",
       "      <td>normal</td>\n",
       "    </tr>\n",
       "    <tr>\n",
       "      <th>466</th>\n",
       "      <td>Spanish train driver charged with 79 counts of...</td>\n",
       "      <td>normal</td>\n",
       "    </tr>\n",
       "    <tr>\n",
       "      <th>743</th>\n",
       "      <td>My parents are 80 years old and on a fixed inc...</td>\n",
       "      <td>normal</td>\n",
       "    </tr>\n",
       "    <tr>\n",
       "      <th>627</th>\n",
       "      <td>Cat gets a kiss from the vacuum it's licking.(...</td>\n",
       "      <td>normal</td>\n",
       "    </tr>\n",
       "    <tr>\n",
       "      <th>312</th>\n",
       "      <td>TIL Canada has specifically banned members of ...</td>\n",
       "      <td>normal</td>\n",
       "    </tr>\n",
       "  </tbody>\n",
       "</table>\n",
       "</div>"
      ],
      "text/plain": [
       "                                                  text   class\n",
       "12   For my final post on Reddit from the Internati...  normal\n",
       "466  Spanish train driver charged with 79 counts of...  normal\n",
       "743  My parents are 80 years old and on a fixed inc...  normal\n",
       "627  Cat gets a kiss from the vacuum it's licking.(...  normal\n",
       "312  TIL Canada has specifically banned members of ...  normal"
      ]
     },
     "execution_count": 9,
     "metadata": {},
     "output_type": "execute_result"
    }
   ],
   "source": [
    "df.head()"
   ]
  },
  {
   "cell_type": "markdown",
   "id": "b60db6f0",
   "metadata": {},
   "source": [
    "# Dir: Dataset/Positive_YouTube_Comments"
   ]
  },
  {
   "cell_type": "code",
   "execution_count": 10,
   "id": "43479b36",
   "metadata": {},
   "outputs": [
    {
     "name": "stdout",
     "output_type": "stream",
     "text": [
      "OK (62296, 2)\n",
      "0 rows are NAs\n"
     ]
    },
    {
     "data": {
      "text/html": [
       "<div>\n",
       "<style scoped>\n",
       "    .dataframe tbody tr th:only-of-type {\n",
       "        vertical-align: middle;\n",
       "    }\n",
       "\n",
       "    .dataframe tbody tr th {\n",
       "        vertical-align: top;\n",
       "    }\n",
       "\n",
       "    .dataframe thead th {\n",
       "        text-align: right;\n",
       "    }\n",
       "</style>\n",
       "<table border=\"1\" class=\"dataframe\">\n",
       "  <thead>\n",
       "    <tr style=\"text-align: right;\">\n",
       "      <th></th>\n",
       "      <th>text</th>\n",
       "      <th>class</th>\n",
       "    </tr>\n",
       "  </thead>\n",
       "  <tbody>\n",
       "    <tr>\n",
       "      <th>3711</th>\n",
       "      <td>alpha m makeovers are way better man 😂</td>\n",
       "      <td>normal</td>\n",
       "    </tr>\n",
       "    <tr>\n",
       "      <th>31675</th>\n",
       "      <td>mars thanks alot for supporting 💗</td>\n",
       "      <td>normal</td>\n",
       "    </tr>\n",
       "    <tr>\n",
       "      <th>26471</th>\n",
       "      <td>that looks and smells amazing</td>\n",
       "      <td>normal</td>\n",
       "    </tr>\n",
       "    <tr>\n",
       "      <th>17065</th>\n",
       "      <td>i guess i like more feminine men</td>\n",
       "      <td>normal</td>\n",
       "    </tr>\n",
       "    <tr>\n",
       "      <th>49682</th>\n",
       "      <td>hey hey guys i need your help whats the songs ...</td>\n",
       "      <td>normal</td>\n",
       "    </tr>\n",
       "  </tbody>\n",
       "</table>\n",
       "</div>"
      ],
      "text/plain": [
       "                                                    text   class\n",
       "3711              alpha m makeovers are way better man 😂  normal\n",
       "31675                  mars thanks alot for supporting 💗  normal\n",
       "26471                      that looks and smells amazing  normal\n",
       "17065                   i guess i like more feminine men  normal\n",
       "49682  hey hey guys i need your help whats the songs ...  normal"
      ]
     },
     "execution_count": 10,
     "metadata": {},
     "output_type": "execute_result"
    }
   ],
   "source": [
    "csv_path_02 = work_dir + \"/NLP-Depression/Dataset/Positive_Youtube_Comments/\"\n",
    "current_path_02 = csv_path_02 + \"train.csv\"\n",
    "current_path_03 = csv_path_02 + \"valid.csv\"\n",
    "\n",
    "current_df_02 = pd.read_csv(current_path_02, index_col=None)\n",
    "current_df_03 = pd.read_csv(current_path_03, index_col=None)\n",
    "\n",
    "\n",
    "current_df_02[\"class\"] = pd.DataFrame([\"normal\"] * current_df_02.shape[0])\n",
    "current_df_02 = current_df_02[[\"text\", \"class\"]]\n",
    "\n",
    "current_df_03[\"class\"] = pd.DataFrame([\"normal\"] * current_df_03.shape[0])\n",
    "current_df_03 = current_df_03[[\"text\", \"class\"]]\n",
    "\n",
    "current_df = pd.concat([current_df_02, current_df_03], axis=0)\n",
    "\n",
    "col1 = current_df.shape[0]\n",
    "current_df = current_df[current_df[\"text\"].notna()]\n",
    "col2 = current_df.shape[0]\n",
    "                              \n",
    "# use sample (fraction=1.0) (all) to shuffle data\n",
    "current_df = current_df.sample(frac=1)\n",
    "\n",
    "print(\"OK\", current_df.shape)\n",
    "print(col1-col2, \"rows are NAs\")\n",
    "current_df.head()"
   ]
  },
  {
   "cell_type": "markdown",
   "id": "db8a0d3e",
   "metadata": {},
   "source": [
    "# Export To CSV"
   ]
  },
  {
   "cell_type": "code",
   "execution_count": 11,
   "id": "6358c9bc",
   "metadata": {},
   "outputs": [
    {
     "name": "stdout",
     "output_type": "stream",
     "text": [
      "(84589, 2)\n"
     ]
    }
   ],
   "source": [
    "df = pd.concat([df, current_df], axis=0)\n",
    "\n",
    "# shuffle\n",
    "df = df.sample(frac=1)\n",
    "\n",
    "print(df.shape)"
   ]
  },
  {
   "cell_type": "code",
   "execution_count": 12,
   "id": "a2a447e7",
   "metadata": {},
   "outputs": [
    {
     "data": {
      "text/html": [
       "<div>\n",
       "<style scoped>\n",
       "    .dataframe tbody tr th:only-of-type {\n",
       "        vertical-align: middle;\n",
       "    }\n",
       "\n",
       "    .dataframe tbody tr th {\n",
       "        vertical-align: top;\n",
       "    }\n",
       "\n",
       "    .dataframe thead th {\n",
       "        text-align: right;\n",
       "    }\n",
       "</style>\n",
       "<table border=\"1\" class=\"dataframe\">\n",
       "  <thead>\n",
       "    <tr style=\"text-align: right;\">\n",
       "      <th></th>\n",
       "      <th>text</th>\n",
       "      <th>class</th>\n",
       "    </tr>\n",
       "  </thead>\n",
       "  <tbody>\n",
       "    <tr>\n",
       "      <th>130</th>\n",
       "      <td>Hi, I'm Chris Hansen. You might know me from m...</td>\n",
       "      <td>normal</td>\n",
       "    </tr>\n",
       "    <tr>\n",
       "      <th>53174</th>\n",
       "      <td>i have been living for many years 70km from sa...</td>\n",
       "      <td>normal</td>\n",
       "    </tr>\n",
       "    <tr>\n",
       "      <th>25004</th>\n",
       "      <td>loved it not so easy but i do this workout in ...</td>\n",
       "      <td>normal</td>\n",
       "    </tr>\n",
       "    <tr>\n",
       "      <th>1026</th>\n",
       "      <td>the crunching sound watered my mouth</td>\n",
       "      <td>normal</td>\n",
       "    </tr>\n",
       "    <tr>\n",
       "      <th>230</th>\n",
       "      <td>IAm Stoya, adult performer and generally naked...</td>\n",
       "      <td>normal</td>\n",
       "    </tr>\n",
       "  </tbody>\n",
       "</table>\n",
       "</div>"
      ],
      "text/plain": [
       "                                                    text   class\n",
       "130    Hi, I'm Chris Hansen. You might know me from m...  normal\n",
       "53174  i have been living for many years 70km from sa...  normal\n",
       "25004  loved it not so easy but i do this workout in ...  normal\n",
       "1026                the crunching sound watered my mouth  normal\n",
       "230    IAm Stoya, adult performer and generally naked...  normal"
      ]
     },
     "execution_count": 12,
     "metadata": {},
     "output_type": "execute_result"
    }
   ],
   "source": [
    "df.head()"
   ]
  },
  {
   "cell_type": "code",
   "execution_count": 13,
   "id": "6b17656f",
   "metadata": {},
   "outputs": [
    {
     "name": "stdout",
     "output_type": "stream",
     "text": [
      "OK\n"
     ]
    }
   ],
   "source": [
    "from pathlib import Path\n",
    "\n",
    "export_dir = work_dir + \"/NLP-Depression/Dataset/Normal_Cases.csv\"\n",
    "\n",
    "df = pd.DataFrame(df)\n",
    "df.to_csv(path_or_buf=Path(export_dir), \n",
    "          sep=\",\", \n",
    "          na_rep=\"\", \n",
    "          columns=[\"text\", \"class\"], \n",
    "          index=False)\n",
    "print(\"OK\")"
   ]
  },
  {
   "cell_type": "code",
   "execution_count": null,
   "id": "581673db",
   "metadata": {},
   "outputs": [],
   "source": []
  }
 ],
 "metadata": {
  "kernelspec": {
   "display_name": "Python 3 (ipykernel)",
   "language": "python",
   "name": "python3"
  },
  "language_info": {
   "codemirror_mode": {
    "name": "ipython",
    "version": 3
   },
   "file_extension": ".py",
   "mimetype": "text/x-python",
   "name": "python",
   "nbconvert_exporter": "python",
   "pygments_lexer": "ipython3",
   "version": "3.9.13"
  }
 },
 "nbformat": 4,
 "nbformat_minor": 5
}
